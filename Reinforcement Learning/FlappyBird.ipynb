{
 "cells": [
  {
   "cell_type": "code",
   "execution_count": 1,
   "metadata": {},
   "outputs": [
    {
     "name": "stdout",
     "output_type": "stream",
     "text": [
      "\n",
      "                      .__    .__                   \n",
      "  _____ _____    ____ |  |__ |__| ____   ____      \n",
      " /     \\__  \\ _/ ___\\|  |  \\|  |/    \\_/ __ \\     \n",
      "|  Y Y  \\/ __ \\  \\___|   Y  \\  |   |  \\  ___/     \n",
      "|__|_|  (____  /\\___  >___|  /__|___|  /\\___  >    \n",
      "      \\/     \\/     \\/     \\/        \\/     \\/     \n",
      ".__machine learning with A7MD0V..__\n",
      "        using MS CNTK and Keras\n",
      "|  |   ____ _____ _______  ____ |__| ____    ____  \n",
      "|  | _/ __ \\__  \\_  __ \\/    \\|  |/    \\  / ___\\ \n",
      "|  |_\\  ___/ / __ \\|  | \\/   |  \\  |   |  \\/ /_/  >\n",
      "|____/\\___  >____  /__|  |___|  /__|___|  /\\___  / \n",
      "          \\/     \\/           \\/        \\//_____/\n",
      " with TensorFlow backend in Python 3 ----2017-->\n",
      " \n",
      "72 65 69 6E 66 6F 72 63 65 6D 65 6E 74 \n",
      "6C 65 61 72 6E 69 6E 67       \n",
      "\n"
     ]
    }
   ],
   "source": [
    "print(\n",
    "'''\n",
    "                      .__    .__                   \n",
    "  _____ _____    ____ |  |__ |__| ____   ____      \n",
    " /     \\\\__  \\ _/ ___\\|  |  \\|  |/    \\_/ __ \\     \n",
    "|  Y Y  \\/ __ \\\\  \\___|   Y  \\  |   |  \\  ___/     \n",
    "|__|_|  (____  /\\___  >___|  /__|___|  /\\___  >    \n",
    "      \\/     \\/     \\/     \\/        \\/     \\/     \n",
    ".__machine learning with A7MD0V..__\n",
    "        using MS CNTK and Keras\n",
    "|  |   ____ _____ _______  ____ |__| ____    ____  \n",
    "|  | _/ __ \\\\__  \\\\_  __ \\/    \\|  |/    \\  / ___\\ \n",
    "|  |_\\  ___/ / __ \\|  | \\/   |  \\  |   |  \\/ /_/  >\n",
    "|____/\\___  >____  /__|  |___|  /__|___|  /\\___  / \n",
    "          \\/     \\/           \\/        \\//_____/\n",
    " with TensorFlow backend in Python 3 ----2017-->\n",
    " \n",
    "72 65 69 6E 66 6F 72 63 65 6D 65 6E 74 \n",
    "6C 65 61 72 6E 69 6E 67       \n",
    "'''\n",
    ")"
   ]
  },
  {
   "cell_type": "code",
   "execution_count": 2,
   "metadata": {},
   "outputs": [
    {
     "name": "stdout",
     "output_type": "stream",
     "text": [
      "\n",
      "Testing Microsoft Cognitive Toolkit:\n",
      "\n",
      "-= Flapping Bird using Keras and Reinforcement Learning =-\n",
      "\n",
      "Agent: Flappy Bird\n",
      "Goal: Climb mountain on right\n",
      "Actions: Left, Right, Nothing\n",
      "Performance: Climb moutain ASAP\n",
      "Environment: Mountain Valley\n",
      "Actuators: Two Wheels\n",
      "Sensors: Velocity and Position of car\n",
      "\n"
     ]
    }
   ],
   "source": [
    "print(\n",
    "'''\n",
    "Testing Microsoft Cognitive Toolkit:\n",
    "\n",
    "-= Flapping Bird using Keras and Reinforcement Learning =-\n",
    "\n",
    "Agent: Flappy Bird\n",
    "Goal: Climb mountain on right\n",
    "Actions: Left, Right, Nothing\n",
    "Performance: Climb moutain ASAP\n",
    "Environment: Mountain Valley\n",
    "Actuators: Two Wheels\n",
    "Sensors: Velocity and Position of car\n",
    "''')"
   ]
  },
  {
   "cell_type": "code",
   "execution_count": null,
   "metadata": {
    "collapsed": true
   },
   "outputs": [],
   "source": [
    "# Collect all tools\n",
    "print('Collecting tools...')\n",
    "print('Importin libraries...')\n",
    "print('Settin Variables...')\n",
    "\n",
    "from __future__ import print_function\n",
    "\n",
    "import argparse\n",
    "from collections import deque\n",
    "import json\n",
    "import numpy as np\n",
    "import os\n",
    "import random\n",
    "import requests\n",
    "import skimage as skimage\n",
    "from skimage import transform, color, exposure\n",
    "from skimage.transform import rotate\n",
    "from skimage.viewer import ImageViewer\n",
    "import sys\n",
    "\n",
    "# Load the right urlretrieve based on python version\n",
    "try: \n",
    "    from urllib.request import urlretrieve \n",
    "except ImportError: \n",
    "    from urllib import urlretrieve\n",
    "\n",
    "import game.wrapped_flappy_bird as game\n",
    "\n",
    "from keras.models import model_from_json\n",
    "from keras.models import Sequential\n",
    "from keras.layers.core import Dense, Dropout, Activation, Flatten\n",
    "from keras.layers.convolutional import Convolution2D, MaxPooling2D\n",
    "from keras.optimizers import SGD , Adam\n",
    "\n"
   ]
  },
  {
   "cell_type": "code",
   "execution_count": 1,
   "metadata": {},
   "outputs": [
    {
     "ename": "NameError",
     "evalue": "name 'sys' is not defined",
     "output_type": "error",
     "traceback": [
      "\u001b[0;31m---------------------------------------------------------------------------\u001b[0m",
      "\u001b[0;31mNameError\u001b[0m                                 Traceback (most recent call last)",
      "\u001b[0;32m<ipython-input-1-ee70260ced5c>\u001b[0m in \u001b[0;36m<module>\u001b[0;34m()\u001b[0m\n\u001b[0;32m----> 1\u001b[0;31m \u001b[0mprint\u001b[0m\u001b[0;34m(\u001b[0m\u001b[0;34m'Python version:'\u001b[0m\u001b[0;34m,\u001b[0m \u001b[0msys\u001b[0m\u001b[0;34m.\u001b[0m\u001b[0mversion\u001b[0m\u001b[0;34m)\u001b[0m\u001b[0;34m\u001b[0m\u001b[0m\n\u001b[0m\u001b[1;32m      2\u001b[0m \u001b[0mprint\u001b[0m\u001b[0;34m(\u001b[0m\u001b[0;34m'Microsoft Cognitive Toolkit:'\u001b[0m\u001b[0;34m,\u001b[0m \u001b[0mcntk\u001b[0m\u001b[0;34m.\u001b[0m\u001b[0m__version__\u001b[0m\u001b[0;34m)\u001b[0m\u001b[0;34m\u001b[0m\u001b[0m\n\u001b[1;32m      3\u001b[0m \u001b[0mprint\u001b[0m\u001b[0;34m(\u001b[0m\u001b[0;34m'Keras version:'\u001b[0m\u001b[0;34m,\u001b[0m \u001b[0mkeras\u001b[0m\u001b[0;34m.\u001b[0m\u001b[0m__version__\u001b[0m\u001b[0;34m)\u001b[0m\u001b[0;34m\u001b[0m\u001b[0m\n\u001b[1;32m      4\u001b[0m \u001b[0mprint\u001b[0m\u001b[0;34m(\u001b[0m\u001b[0;34m'TensorFlow version:'\u001b[0m\u001b[0;34m,\u001b[0m \u001b[0mtf\u001b[0m\u001b[0;34m.\u001b[0m\u001b[0m__version__\u001b[0m\u001b[0;34m)\u001b[0m\u001b[0;34m\u001b[0m\u001b[0m\n",
      "\u001b[0;31mNameError\u001b[0m: name 'sys' is not defined"
     ]
    }
   ],
   "source": [
    "print('Python version:', sys.version)\n",
    "print('Microsoft Cognitive Toolkit:', cntk.__version__)\n",
    "print('Keras version:', keras.__version__)\n",
    "print('TensorFlow version:', tf.__version__)\n"
   ]
  },
  {
   "cell_type": "code",
   "execution_count": null,
   "metadata": {
    "collapsed": true
   },
   "outputs": [],
   "source": []
  }
 ],
 "metadata": {
  "kernelspec": {
   "display_name": "tfkeras",
   "language": "python",
   "name": "tfkeras"
  },
  "language_info": {
   "codemirror_mode": {
    "name": "ipython",
    "version": 3
   },
   "file_extension": ".py",
   "mimetype": "text/x-python",
   "name": "python",
   "nbconvert_exporter": "python",
   "pygments_lexer": "ipython3",
   "version": "3.5.2"
  }
 },
 "nbformat": 4,
 "nbformat_minor": 2
}
